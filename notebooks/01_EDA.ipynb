{
 "cells": [
  {
   "metadata": {
    "ExecuteTime": {
     "end_time": "2025-09-26T03:02:37.291922Z",
     "start_time": "2025-09-26T03:02:29.422918Z"
    }
   },
   "cell_type": "code",
   "source": "import pandas as pd\n",
   "id": "88c0569250d175f6",
   "outputs": [],
   "execution_count": 3
  },
  {
   "metadata": {},
   "cell_type": "code",
   "outputs": [],
   "execution_count": null,
   "source": [
    "from pathlib import Path\n",
    "print(\"CWD:\", Path.cwd())"
   ],
   "id": "158d93f3657232e0"
  },
  {
   "metadata": {
    "ExecuteTime": {
     "end_time": "2025-09-26T03:50:09.800913Z",
     "start_time": "2025-09-26T03:50:09.718022Z"
    }
   },
   "cell_type": "code",
   "source": [
    "df_task_dwa = pd.read_csv(\"../data/raw/Tasks to DWAs.txt\", sep=\"\\t\", dtype=str, na_filter=False)\n",
    "df_task_desc = pd.read_csv(\"../data/raw/Task Statements.txt\", sep=\"\\t\", dtype=str, na_filter=False)\n",
    "df_dwa_desc = pd.read_csv(\"../data/raw/DWA Reference.txt\", sep=\"\\t\", dtype=str, na_filter=False)\n",
    "df_occ = pd.read_csv(\"../data/raw/Occupation Data.txt\", sep=\"\\t\", dtype=str, na_filter=False)\n",
    "\n"
   ],
   "id": "1024f6af0b27f2af",
   "outputs": [],
   "execution_count": 57
  },
  {
   "metadata": {
    "ExecuteTime": {
     "end_time": "2025-09-26T03:50:10.256232Z",
     "start_time": "2025-09-26T03:50:10.251984Z"
    }
   },
   "cell_type": "code",
   "source": [
    "df_task_dwa.columns = (df_task_dwa.columns\n",
    "              .str.strip()\n",
    "              .str.lower()\n",
    "              .str.replace(r\"\\s+\", \"_\", regex=True))\n",
    "to_drop = [\"date\", \"domain_source\"]\n",
    "df_task_dwa = df_task_dwa.drop(columns=to_drop)\n",
    "print(df_task_dwa.columns)"
   ],
   "id": "9fb725b85aa578a8",
   "outputs": [
    {
     "name": "stdout",
     "output_type": "stream",
     "text": [
      "Index(['o*net-soc_code', 'task_id', 'dwa_id'], dtype='object')\n"
     ]
    }
   ],
   "execution_count": 58
  },
  {
   "metadata": {
    "ExecuteTime": {
     "end_time": "2025-09-26T03:50:10.924200Z",
     "start_time": "2025-09-26T03:50:10.920620Z"
    }
   },
   "cell_type": "code",
   "source": [
    "df_task_desc.columns = (df_task_desc.columns\n",
    "                      .str.strip()\n",
    "                      .str.lower()\n",
    "                      .str.replace(r\"\\s+\", \"_\", regex=True))\n",
    "\n",
    "print(df_task_desc.columns)"
   ],
   "id": "32fb1936e12a9b63",
   "outputs": [
    {
     "name": "stdout",
     "output_type": "stream",
     "text": [
      "Index(['o*net-soc_code', 'task_id', 'task', 'task_type',\n",
      "       'incumbents_responding', 'date', 'domain_source'],\n",
      "      dtype='object')\n"
     ]
    }
   ],
   "execution_count": 59
  },
  {
   "metadata": {
    "ExecuteTime": {
     "end_time": "2025-09-26T03:50:11.638163Z",
     "start_time": "2025-09-26T03:50:11.634586Z"
    }
   },
   "cell_type": "code",
   "source": [
    "df_dwa_desc.columns = (df_dwa_desc.columns\n",
    "                      .str.strip()\n",
    "                      .str.lower()\n",
    "                      .str.replace(r\"\\s+\", \"_\", regex=True))\n",
    "print(df_dwa_desc.columns)"
   ],
   "id": "be1a96620c06ddf",
   "outputs": [
    {
     "name": "stdout",
     "output_type": "stream",
     "text": [
      "Index(['element_id', 'iwa_id', 'dwa_id', 'dwa_title'], dtype='object')\n"
     ]
    }
   ],
   "execution_count": 60
  },
  {
   "metadata": {
    "ExecuteTime": {
     "end_time": "2025-09-26T03:50:13.307028Z",
     "start_time": "2025-09-26T03:50:13.300965Z"
    }
   },
   "cell_type": "code",
   "source": [
    "df_occ.columns = (df_occ.columns\n",
    "                      .str.strip()\n",
    "                      .str.lower()\n",
    "                      .str.replace(r\"\\s+\", \"_\", regex=True))\n",
    "df_occ = df_occ.rename(columns={\"title\": \"occ_title\", \"description\": \"occ_description\"})\n",
    "print(df_occ.columns)"
   ],
   "id": "b2ee4e9bbca9d908",
   "outputs": [
    {
     "name": "stdout",
     "output_type": "stream",
     "text": [
      "Index(['o*net-soc_code', 'occ_title', 'occ_description'], dtype='object')\n"
     ]
    }
   ],
   "execution_count": 61
  },
  {
   "metadata": {
    "ExecuteTime": {
     "end_time": "2025-09-26T03:50:14.313608Z",
     "start_time": "2025-09-26T03:50:14.304083Z"
    }
   },
   "cell_type": "code",
   "source": [
    "for df, cols in [\n",
    "    (df_task_dwa, ['o*net-soc_code','task_id','dwa_id']),\n",
    "    (df_occ,      ['o*net-soc_code','occ_title','occ_description']),\n",
    "    (df_dwa_desc, ['dwa_id','dwa_title']),\n",
    "    (df_task_desc,['task_id','task'])\n",
    "]:\n",
    "    missing = [c for c in cols if c not in df.columns]\n",
    "    if missing: raise ValueError(f\"Missing {missing} in dataframe\")"
   ],
   "id": "b6474673b09ea20c",
   "outputs": [],
   "execution_count": 62
  },
  {
   "metadata": {
    "ExecuteTime": {
     "end_time": "2025-09-26T03:50:15.254661Z",
     "start_time": "2025-09-26T03:50:15.247974Z"
    }
   },
   "cell_type": "code",
   "source": [
    "#check for dupes\n",
    "assert not df_occ.duplicated('o*net-soc_code').any(), \"Duplicates in df_occ on o*net-soc_code\"\n",
    "assert not df_dwa_desc.duplicated('dwa_id').any(),     \"Duplicates in df_dwa_desc on dwa_id\"\n",
    "assert not df_task_desc.duplicated('task_id').any(),   \"Duplicates in df_task_desc on task_id\"\n",
    "\n"
   ],
   "id": "12d2da1b4a986aac",
   "outputs": [],
   "execution_count": 63
  },
  {
   "metadata": {
    "ExecuteTime": {
     "end_time": "2025-09-26T03:50:16.047747Z",
     "start_time": "2025-09-26T03:50:15.983917Z"
    }
   },
   "cell_type": "code",
   "source": [
    "df = (\n",
    "    df_task_dwa\n",
    "      .merge(\n",
    "          df_occ[['o*net-soc_code','occ_title','occ_description']],\n",
    "          on='o*net-soc_code', how='left', validate='many_to_one'\n",
    "      )\n",
    "      .merge(\n",
    "          df_dwa_desc[['dwa_id','dwa_title']],\n",
    "          on='dwa_id', how='left', validate='many_to_one'\n",
    "      )\n",
    "      .merge(\n",
    "          df_task_desc[['task_id','task']],\n",
    "          on='task_id', how='left', validate='many_to_one'\n",
    "      )\n",
    ")\n",
    "\n",
    "print(df.shape)\n"
   ],
   "id": "4c00ae452566a5bc",
   "outputs": [
    {
     "name": "stdout",
     "output_type": "stream",
     "text": [
      "(23851, 7)\n"
     ]
    }
   ],
   "execution_count": 64
  },
  {
   "metadata": {
    "ExecuteTime": {
     "end_time": "2025-09-26T03:50:17.275331Z",
     "start_time": "2025-09-26T03:50:17.261964Z"
    }
   },
   "cell_type": "code",
   "source": "df.head()",
   "id": "8935ffb4f3f88b11",
   "outputs": [
    {
     "data": {
      "text/plain": [
       "  o*net-soc_code task_id             dwa_id         occ_title  \\\n",
       "0     11-1011.00   20461  4.A.2.a.4.I09.D03  Chief Executives   \n",
       "1     11-1011.00   20461  4.A.4.b.6.I08.D04  Chief Executives   \n",
       "2     11-1011.00    8823  4.A.4.b.4.I09.D02  Chief Executives   \n",
       "3     11-1011.00    8824  4.A.4.a.2.I03.D14  Chief Executives   \n",
       "4     11-1011.00    8825  4.A.2.a.4.I07.D09  Chief Executives   \n",
       "\n",
       "                                     occ_description  \\\n",
       "0  Determine and formulate policies and provide o...   \n",
       "1  Determine and formulate policies and provide o...   \n",
       "2  Determine and formulate policies and provide o...   \n",
       "3  Determine and formulate policies and provide o...   \n",
       "4  Determine and formulate policies and provide o...   \n",
       "\n",
       "                                           dwa_title  \\\n",
       "0     Analyze impact of legal or regulatory changes.   \n",
       "1  Advise others on legal or regulatory complianc...   \n",
       "2                       Direct financial operations.   \n",
       "3  Confer with organizational members to accompli...   \n",
       "4  Analyze data to assess operational or project ...   \n",
       "\n",
       "                                                task  \n",
       "0  Review and analyze legislation, laws, or publi...  \n",
       "1  Review and analyze legislation, laws, or publi...  \n",
       "2  Direct or coordinate an organization's financi...  \n",
       "3  Confer with board members, organization offici...  \n",
       "4  Analyze operations to evaluate performance of ...  "
      ],
      "text/html": [
       "<div>\n",
       "<style scoped>\n",
       "    .dataframe tbody tr th:only-of-type {\n",
       "        vertical-align: middle;\n",
       "    }\n",
       "\n",
       "    .dataframe tbody tr th {\n",
       "        vertical-align: top;\n",
       "    }\n",
       "\n",
       "    .dataframe thead th {\n",
       "        text-align: right;\n",
       "    }\n",
       "</style>\n",
       "<table border=\"1\" class=\"dataframe\">\n",
       "  <thead>\n",
       "    <tr style=\"text-align: right;\">\n",
       "      <th></th>\n",
       "      <th>o*net-soc_code</th>\n",
       "      <th>task_id</th>\n",
       "      <th>dwa_id</th>\n",
       "      <th>occ_title</th>\n",
       "      <th>occ_description</th>\n",
       "      <th>dwa_title</th>\n",
       "      <th>task</th>\n",
       "    </tr>\n",
       "  </thead>\n",
       "  <tbody>\n",
       "    <tr>\n",
       "      <th>0</th>\n",
       "      <td>11-1011.00</td>\n",
       "      <td>20461</td>\n",
       "      <td>4.A.2.a.4.I09.D03</td>\n",
       "      <td>Chief Executives</td>\n",
       "      <td>Determine and formulate policies and provide o...</td>\n",
       "      <td>Analyze impact of legal or regulatory changes.</td>\n",
       "      <td>Review and analyze legislation, laws, or publi...</td>\n",
       "    </tr>\n",
       "    <tr>\n",
       "      <th>1</th>\n",
       "      <td>11-1011.00</td>\n",
       "      <td>20461</td>\n",
       "      <td>4.A.4.b.6.I08.D04</td>\n",
       "      <td>Chief Executives</td>\n",
       "      <td>Determine and formulate policies and provide o...</td>\n",
       "      <td>Advise others on legal or regulatory complianc...</td>\n",
       "      <td>Review and analyze legislation, laws, or publi...</td>\n",
       "    </tr>\n",
       "    <tr>\n",
       "      <th>2</th>\n",
       "      <td>11-1011.00</td>\n",
       "      <td>8823</td>\n",
       "      <td>4.A.4.b.4.I09.D02</td>\n",
       "      <td>Chief Executives</td>\n",
       "      <td>Determine and formulate policies and provide o...</td>\n",
       "      <td>Direct financial operations.</td>\n",
       "      <td>Direct or coordinate an organization's financi...</td>\n",
       "    </tr>\n",
       "    <tr>\n",
       "      <th>3</th>\n",
       "      <td>11-1011.00</td>\n",
       "      <td>8824</td>\n",
       "      <td>4.A.4.a.2.I03.D14</td>\n",
       "      <td>Chief Executives</td>\n",
       "      <td>Determine and formulate policies and provide o...</td>\n",
       "      <td>Confer with organizational members to accompli...</td>\n",
       "      <td>Confer with board members, organization offici...</td>\n",
       "    </tr>\n",
       "    <tr>\n",
       "      <th>4</th>\n",
       "      <td>11-1011.00</td>\n",
       "      <td>8825</td>\n",
       "      <td>4.A.2.a.4.I07.D09</td>\n",
       "      <td>Chief Executives</td>\n",
       "      <td>Determine and formulate policies and provide o...</td>\n",
       "      <td>Analyze data to assess operational or project ...</td>\n",
       "      <td>Analyze operations to evaluate performance of ...</td>\n",
       "    </tr>\n",
       "  </tbody>\n",
       "</table>\n",
       "</div>"
      ]
     },
     "execution_count": 65,
     "metadata": {},
     "output_type": "execute_result"
    }
   ],
   "execution_count": 65
  },
  {
   "metadata": {
    "ExecuteTime": {
     "end_time": "2025-09-26T03:50:18.181824Z",
     "start_time": "2025-09-26T03:50:18.172475Z"
    }
   },
   "cell_type": "code",
   "source": "df.sample(3)",
   "id": "89aec475a246686b",
   "outputs": [
    {
     "data": {
      "text/plain": [
       "      o*net-soc_code task_id             dwa_id  \\\n",
       "13945     35-2012.00    9491  4.A.3.a.1.I08.D03   \n",
       "2226      13-1141.00    3363  4.A.2.a.1.I02.D04   \n",
       "11824     29-1299.02   18425  4.A.4.a.5.I11.D05   \n",
       "\n",
       "                                               occ_title  \\\n",
       "13945                   Cooks, Institution and Cafeteria   \n",
       "2226   Compensation, Benefits, and Job Analysis Speci...   \n",
       "11824                                        Orthoptists   \n",
       "\n",
       "                                         occ_description  \\\n",
       "13945  Prepare and cook large quantities of food for ...   \n",
       "2226   Conduct programs of compensation and benefits ...   \n",
       "11824  Diagnose and treat visual system disorders suc...   \n",
       "\n",
       "                                               dwa_title  \\\n",
       "13945                                   Clean tableware.   \n",
       "2226   Evaluate effectiveness of personnel policies o...   \n",
       "11824  Assist healthcare practitioners during examina...   \n",
       "\n",
       "                                                    task  \n",
       "13945  Wash pots, pans, dishes, utensils, or other co...  \n",
       "2226   Research employee benefit and health and safet...  \n",
       "11824  Assist ophthalmologists in diagnostic ophthalm...  "
      ],
      "text/html": [
       "<div>\n",
       "<style scoped>\n",
       "    .dataframe tbody tr th:only-of-type {\n",
       "        vertical-align: middle;\n",
       "    }\n",
       "\n",
       "    .dataframe tbody tr th {\n",
       "        vertical-align: top;\n",
       "    }\n",
       "\n",
       "    .dataframe thead th {\n",
       "        text-align: right;\n",
       "    }\n",
       "</style>\n",
       "<table border=\"1\" class=\"dataframe\">\n",
       "  <thead>\n",
       "    <tr style=\"text-align: right;\">\n",
       "      <th></th>\n",
       "      <th>o*net-soc_code</th>\n",
       "      <th>task_id</th>\n",
       "      <th>dwa_id</th>\n",
       "      <th>occ_title</th>\n",
       "      <th>occ_description</th>\n",
       "      <th>dwa_title</th>\n",
       "      <th>task</th>\n",
       "    </tr>\n",
       "  </thead>\n",
       "  <tbody>\n",
       "    <tr>\n",
       "      <th>13945</th>\n",
       "      <td>35-2012.00</td>\n",
       "      <td>9491</td>\n",
       "      <td>4.A.3.a.1.I08.D03</td>\n",
       "      <td>Cooks, Institution and Cafeteria</td>\n",
       "      <td>Prepare and cook large quantities of food for ...</td>\n",
       "      <td>Clean tableware.</td>\n",
       "      <td>Wash pots, pans, dishes, utensils, or other co...</td>\n",
       "    </tr>\n",
       "    <tr>\n",
       "      <th>2226</th>\n",
       "      <td>13-1141.00</td>\n",
       "      <td>3363</td>\n",
       "      <td>4.A.2.a.1.I02.D04</td>\n",
       "      <td>Compensation, Benefits, and Job Analysis Speci...</td>\n",
       "      <td>Conduct programs of compensation and benefits ...</td>\n",
       "      <td>Evaluate effectiveness of personnel policies o...</td>\n",
       "      <td>Research employee benefit and health and safet...</td>\n",
       "    </tr>\n",
       "    <tr>\n",
       "      <th>11824</th>\n",
       "      <td>29-1299.02</td>\n",
       "      <td>18425</td>\n",
       "      <td>4.A.4.a.5.I11.D05</td>\n",
       "      <td>Orthoptists</td>\n",
       "      <td>Diagnose and treat visual system disorders suc...</td>\n",
       "      <td>Assist healthcare practitioners during examina...</td>\n",
       "      <td>Assist ophthalmologists in diagnostic ophthalm...</td>\n",
       "    </tr>\n",
       "  </tbody>\n",
       "</table>\n",
       "</div>"
      ]
     },
     "execution_count": 66,
     "metadata": {},
     "output_type": "execute_result"
    }
   ],
   "execution_count": 66
  },
  {
   "metadata": {
    "ExecuteTime": {
     "end_time": "2025-09-26T03:50:19.848344Z",
     "start_time": "2025-09-26T03:50:19.833014Z"
    }
   },
   "cell_type": "code",
   "source": "df.isna().sum()",
   "id": "3b5363658d545cc9",
   "outputs": [
    {
     "data": {
      "text/plain": [
       "o*net-soc_code     0\n",
       "task_id            0\n",
       "dwa_id             0\n",
       "occ_title          0\n",
       "occ_description    0\n",
       "dwa_title          0\n",
       "task               0\n",
       "dtype: int64"
      ]
     },
     "execution_count": 67,
     "metadata": {},
     "output_type": "execute_result"
    }
   ],
   "execution_count": 67
  },
  {
   "metadata": {
    "ExecuteTime": {
     "end_time": "2025-09-26T03:50:48.075777Z",
     "start_time": "2025-09-26T03:50:48.006177Z"
    }
   },
   "cell_type": "code",
   "source": [
    "df[\"task_len\"] = df[\"task\"].str.split().str.len()\n",
    "df[\"task_len\"].describe()"
   ],
   "id": "277f4de1c990d9b6",
   "outputs": [
    {
     "data": {
      "text/plain": [
       "count    23851.000000\n",
       "mean        13.773301\n",
       "std          5.508161\n",
       "min          2.000000\n",
       "25%         10.000000\n",
       "50%         13.000000\n",
       "75%         18.000000\n",
       "max         45.000000\n",
       "Name: task_len, dtype: float64"
      ]
     },
     "execution_count": 68,
     "metadata": {},
     "output_type": "execute_result"
    }
   ],
   "execution_count": 68
  },
  {
   "metadata": {
    "ExecuteTime": {
     "end_time": "2025-09-26T03:53:24.230907Z",
     "start_time": "2025-09-26T03:53:24.205051Z"
    }
   },
   "cell_type": "code",
   "source": [
    "tasks_per_dwa = df.groupby(\"dwa_id\")[\"task_id\"].nunique().sort_values(ascending=False)\n",
    "print(tasks_per_dwa)\n"
   ],
   "id": "c65c0c2c7e55a415",
   "outputs": [
    {
     "name": "stdout",
     "output_type": "stream",
     "text": [
      "dwa_id\n",
      "4.A.4.b.6.I07.D02    124\n",
      "4.A.2.a.1.I03.D04    115\n",
      "4.A.3.b.6.I08.D03    111\n",
      "4.A.2.b.3.I01.D10     86\n",
      "4.A.3.b.6.I11.D04     76\n",
      "                    ... \n",
      "4.A.3.a.2.I45.D04      1\n",
      "4.A.2.b.2.I26.D04      1\n",
      "4.A.3.b.4.I05.D05      1\n",
      "4.A.1.b.2.I10.D10      1\n",
      "4.A.4.c.2.I01.D07      1\n",
      "Name: task_id, Length: 2083, dtype: int64\n"
     ]
    }
   ],
   "execution_count": 72
  },
  {
   "metadata": {
    "ExecuteTime": {
     "end_time": "2025-09-26T03:53:37.122124Z",
     "start_time": "2025-09-26T03:53:37.094062Z"
    }
   },
   "cell_type": "code",
   "source": [
    "dwas_per_task = df.groupby(\"task_id\")[\"dwa_id\"].nunique().value_counts().sort_index()\n",
    "print(dwas_per_task)"
   ],
   "id": "efbeb9fec04ff8ea",
   "outputs": [
    {
     "name": "stdout",
     "output_type": "stream",
     "text": [
      "dwa_id\n",
      "1    14431\n",
      "2     3692\n",
      "3      661\n",
      "4       12\n",
      "5        1\n",
      "Name: count, dtype: int64\n"
     ]
    }
   ],
   "execution_count": 73
  },
  {
   "metadata": {
    "ExecuteTime": {
     "end_time": "2025-09-26T03:54:26.625658Z",
     "start_time": "2025-09-26T03:54:26.610734Z"
    }
   },
   "cell_type": "code",
   "source": [
    "dup_rows = df.duplicated(subset=[\"task_id\", \"dwa_id\"]).sum()\n",
    "print(dup_rows)"
   ],
   "id": "5662cf607004dc92",
   "outputs": [
    {
     "name": "stdout",
     "output_type": "stream",
     "text": [
      "0\n"
     ]
    }
   ],
   "execution_count": 75
  },
  {
   "metadata": {
    "ExecuteTime": {
     "end_time": "2025-09-26T03:54:39.890052Z",
     "start_time": "2025-09-26T03:54:39.872884Z"
    }
   },
   "cell_type": "code",
   "source": [
    "dup_tasks = df.duplicated(subset=[\"task\"]).sum()\n",
    "print(dup_tasks)"
   ],
   "id": "6ea251f31048ead3",
   "outputs": [
    {
     "name": "stdout",
     "output_type": "stream",
     "text": [
      "6313\n"
     ]
    }
   ],
   "execution_count": 76
  },
  {
   "metadata": {
    "ExecuteTime": {
     "end_time": "2025-09-26T04:00:28.063848Z",
     "start_time": "2025-09-26T04:00:28.038286Z"
    }
   },
   "cell_type": "code",
   "source": "df.columns\n",
   "id": "8758e1b280826e59",
   "outputs": [
    {
     "data": {
      "text/plain": [
       "Index(['o*net-soc_code', 'task_id', 'dwa_id', 'occ_title', 'occ_description',\n",
       "       'dwa_title', 'task', 'task_len'],\n",
       "      dtype='object')"
      ]
     },
     "execution_count": 77,
     "metadata": {},
     "output_type": "execute_result"
    }
   ],
   "execution_count": 77
  },
  {
   "metadata": {},
   "cell_type": "code",
   "outputs": [],
   "execution_count": null,
   "source": "",
   "id": "b8a5cdebc2301a58"
  }
 ],
 "metadata": {
  "kernelspec": {
   "display_name": "Python 3",
   "language": "python",
   "name": "python3"
  },
  "language_info": {
   "codemirror_mode": {
    "name": "ipython",
    "version": 2
   },
   "file_extension": ".py",
   "mimetype": "text/x-python",
   "name": "python",
   "nbconvert_exporter": "python",
   "pygments_lexer": "ipython2",
   "version": "2.7.6"
  }
 },
 "nbformat": 4,
 "nbformat_minor": 5
}
